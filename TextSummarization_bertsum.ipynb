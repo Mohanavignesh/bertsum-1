{
  "nbformat": 4,
  "nbformat_minor": 0,
  "metadata": {
    "colab": {
      "name": "TextSummarization_bertsum.ipynb",
      "provenance": [],
      "collapsed_sections": [],
      "machine_shape": "hm",
      "authorship_tag": "ABX9TyPuAGWKxEV16sQZAKGQ1AnT",
      "include_colab_link": true
    },
    "kernelspec": {
      "name": "python3",
      "display_name": "Python 3"
    },
    "accelerator": "GPU"
  },
  "cells": [
    {
      "cell_type": "markdown",
      "metadata": {
        "id": "view-in-github",
        "colab_type": "text"
      },
      "source": [
        "<a href=\"https://colab.research.google.com/github/thangarani/bertsum/blob/master/TextSummarization_bertsum.ipynb\" target=\"_parent\"><img src=\"https://colab.research.google.com/assets/colab-badge.svg\" alt=\"Open In Colab\"/></a>"
      ]
    },
    {
      "cell_type": "code",
      "metadata": {
        "id": "V9VHyx-OPS7U",
        "colab_type": "code",
        "colab": {
          "base_uri": "https://localhost:8080/",
          "height": 34
        },
        "outputId": "b53e1b4c-40cc-4d5e-81ff-d40817e70b06"
      },
      "source": [
        "!git clone https://github.com/nlpyang/BertSum.git"
      ],
      "execution_count": 2,
      "outputs": [
        {
          "output_type": "stream",
          "text": [
            "fatal: destination path 'BertSum' already exists and is not an empty directory.\n"
          ],
          "name": "stdout"
        }
      ]
    },
    {
      "cell_type": "code",
      "metadata": {
        "id": "e-DcT-uQgBO4",
        "colab_type": "code",
        "colab": {}
      },
      "source": [
        "cd BertSum"
      ],
      "execution_count": null,
      "outputs": []
    },
    {
      "cell_type": "code",
      "metadata": {
        "id": "qI3o4WgXgA4V",
        "colab_type": "code",
        "colab": {}
      },
      "source": [
        "!git clone https://github.com/thangarani/raw_stories.git"
      ],
      "execution_count": null,
      "outputs": []
    },
    {
      "cell_type": "code",
      "metadata": {
        "id": "Zc0gt1wGgwjC",
        "colab_type": "code",
        "colab": {}
      },
      "source": [
        "!wget http://nlp.stanford.edu/software/stanford-corenlp-latest.zip"
      ],
      "execution_count": null,
      "outputs": []
    },
    {
      "cell_type": "code",
      "metadata": {
        "id": "BR_KqQ2U1H26",
        "colab_type": "code",
        "colab": {
          "base_uri": "https://localhost:8080/",
          "height": 272
        },
        "outputId": "3224f8fb-ae04-40ca-8b61-fb924bf2656b"
      },
      "source": [
        "!wget http://nlp.stanford.edu/software/stanford-corenlp-full-2016-10-31.zip"
      ],
      "execution_count": 3,
      "outputs": [
        {
          "output_type": "stream",
          "text": [
            "--2020-06-29 16:06:43--  http://nlp.stanford.edu/software/stanford-corenlp-full-2016-10-31.zip\n",
            "Resolving nlp.stanford.edu (nlp.stanford.edu)... 171.64.67.140\n",
            "Connecting to nlp.stanford.edu (nlp.stanford.edu)|171.64.67.140|:80... connected.\n",
            "HTTP request sent, awaiting response... 302 Found\n",
            "Location: https://nlp.stanford.edu/software/stanford-corenlp-full-2016-10-31.zip [following]\n",
            "--2020-06-29 16:06:43--  https://nlp.stanford.edu/software/stanford-corenlp-full-2016-10-31.zip\n",
            "Connecting to nlp.stanford.edu (nlp.stanford.edu)|171.64.67.140|:443... connected.\n",
            "HTTP request sent, awaiting response... 200 OK\n",
            "Length: 388633790 (371M) [application/zip]\n",
            "Saving to: ‘stanford-corenlp-full-2016-10-31.zip’\n",
            "\n",
            "stanford-corenlp-fu 100%[===================>] 370.63M  26.4MB/s    in 12s     \n",
            "\n",
            "2020-06-29 16:06:55 (29.9 MB/s) - ‘stanford-corenlp-full-2016-10-31.zip’ saved [388633790/388633790]\n",
            "\n"
          ],
          "name": "stdout"
        }
      ]
    },
    {
      "cell_type": "code",
      "metadata": {
        "id": "HbwD1YLP2atX",
        "colab_type": "code",
        "colab": {}
      },
      "source": [
        "mv stanford-corenlp-full-2016-10-31.zip /BertSum"
      ],
      "execution_count": 5,
      "outputs": []
    },
    {
      "cell_type": "code",
      "metadata": {
        "id": "FpOSqyIatPRA",
        "colab_type": "code",
        "colab": {}
      },
      "source": [
        "!wget http://nlp.stanford.edu/software/stanford-corenlp-full-2017-06-09.zip"
      ],
      "execution_count": null,
      "outputs": []
    },
    {
      "cell_type": "code",
      "metadata": {
        "id": "1k5sdFdai-kb",
        "colab_type": "code",
        "colab": {}
      },
      "source": [
        "!sudo apt install unzip"
      ],
      "execution_count": null,
      "outputs": []
    },
    {
      "cell_type": "code",
      "metadata": {
        "id": "YfVpnwd9jGZb",
        "colab_type": "code",
        "colab": {}
      },
      "source": [
        "!unzip stanford-corenlp-full-2017-06-09.zip"
      ],
      "execution_count": null,
      "outputs": []
    },
    {
      "cell_type": "code",
      "metadata": {
        "id": "WkRWpb1tsmbp",
        "colab_type": "code",
        "colab": {}
      },
      "source": [
        "pwd"
      ],
      "execution_count": null,
      "outputs": []
    },
    {
      "cell_type": "code",
      "metadata": {
        "id": "_CJUmjswkT5G",
        "colab_type": "code",
        "colab": {}
      },
      "source": [
        "import os\n",
        "os.environ['CLASSSPATH']=\"/content/BertSum/stanford-corenlp-full-2017-06-09/stanford-corenlp-3.8.0.jar\""
      ],
      "execution_count": null,
      "outputs": []
    },
    {
      "cell_type": "code",
      "metadata": {
        "id": "a7tYMu-Ug6Sa",
        "colab_type": "code",
        "colab": {}
      },
      "source": [
        "env"
      ],
      "execution_count": null,
      "outputs": []
    },
    {
      "cell_type": "code",
      "metadata": {
        "id": "Z5CRlBAy3ivl",
        "colab_type": "code",
        "colab": {}
      },
      "source": [
        "!pip3 install pytorch_pretrained_bert"
      ],
      "execution_count": null,
      "outputs": []
    },
    {
      "cell_type": "code",
      "metadata": {
        "id": "-jvtqmg23sQL",
        "colab_type": "code",
        "colab": {}
      },
      "source": [
        "!pip install tensorboardX"
      ],
      "execution_count": null,
      "outputs": []
    },
    {
      "cell_type": "code",
      "metadata": {
        "id": "YBZePC6z3xBl",
        "colab_type": "code",
        "colab": {}
      },
      "source": [
        "!pip install multiprocess"
      ],
      "execution_count": null,
      "outputs": []
    },
    {
      "cell_type": "code",
      "metadata": {
        "id": "-NZtCi683-yG",
        "colab_type": "code",
        "colab": {}
      },
      "source": [
        "!git clone https://github.com/andersjo/pyrouge.git"
      ],
      "execution_count": null,
      "outputs": []
    },
    {
      "cell_type": "code",
      "metadata": {
        "id": "dMmd-7d34G4a",
        "colab_type": "code",
        "colab": {}
      },
      "source": [
        "cd pyrouge/tools/ROUGE-1.5.5"
      ],
      "execution_count": null,
      "outputs": []
    },
    {
      "cell_type": "code",
      "metadata": {
        "id": "J-dtmMBt4LHh",
        "colab_type": "code",
        "colab": {}
      },
      "source": [
        "pip install perl"
      ],
      "execution_count": null,
      "outputs": []
    },
    {
      "cell_type": "code",
      "metadata": {
        "id": "aLCnRjmtlXSc",
        "colab_type": "code",
        "colab": {}
      },
      "source": [
        "env"
      ],
      "execution_count": null,
      "outputs": []
    },
    {
      "cell_type": "code",
      "metadata": {
        "id": "CLEg5H-34VfJ",
        "colab_type": "code",
        "colab": {}
      },
      "source": [
        "!export ROUGE_EVAL_HOME=\"/content/BertSum/pyrouge/tools/ROUGE-1.5.5/data/\""
      ],
      "execution_count": null,
      "outputs": []
    },
    {
      "cell_type": "code",
      "metadata": {
        "id": "RBMRSbne4X0A",
        "colab_type": "code",
        "colab": {}
      },
      "source": [
        "cd data/WordNet-2.0-Exceptions/"
      ],
      "execution_count": null,
      "outputs": []
    },
    {
      "cell_type": "code",
      "metadata": {
        "id": "Eu28lPs_4d3L",
        "colab_type": "code",
        "colab": {}
      },
      "source": [
        "!apt-get install synaptic"
      ],
      "execution_count": null,
      "outputs": []
    },
    {
      "cell_type": "code",
      "metadata": {
        "id": "iPx95HQo4m0N",
        "colab_type": "code",
        "colab": {}
      },
      "source": [
        "!./buildExeptionDB.pl . exc WordNet-2.0.exc.db"
      ],
      "execution_count": null,
      "outputs": []
    },
    {
      "cell_type": "code",
      "metadata": {
        "id": "XLLxUKMW5TTi",
        "colab_type": "code",
        "colab": {}
      },
      "source": [
        "cd ../"
      ],
      "execution_count": null,
      "outputs": []
    },
    {
      "cell_type": "code",
      "metadata": {
        "id": "gpvA2HCh5WoZ",
        "colab_type": "code",
        "colab": {}
      },
      "source": [
        "!ln -s WordNet-2.0-Exceptions/WordNet-2.0.exc.db WordNet-2.0.exc.db"
      ],
      "execution_count": null,
      "outputs": []
    },
    {
      "cell_type": "code",
      "metadata": {
        "id": "yI5D8Rul5aOh",
        "colab_type": "code",
        "colab": {}
      },
      "source": [
        "ls"
      ],
      "execution_count": null,
      "outputs": []
    },
    {
      "cell_type": "code",
      "metadata": {
        "id": "grGtQxS55ccw",
        "colab_type": "code",
        "colab": {}
      },
      "source": [
        "rm WordNet-2.0.exc.db"
      ],
      "execution_count": null,
      "outputs": []
    },
    {
      "cell_type": "code",
      "metadata": {
        "id": "xNv67agJ5hDo",
        "colab_type": "code",
        "colab": {}
      },
      "source": [
        "!ln -s WordNet-2.0-Exceptions/WordNet-2.0.exc.db WordNet-2.0.exc.db"
      ],
      "execution_count": null,
      "outputs": []
    },
    {
      "cell_type": "code",
      "metadata": {
        "id": "fr-uDxud58s1",
        "colab_type": "code",
        "colab": {}
      },
      "source": [
        "!apt-get install libxml-dom-perl"
      ],
      "execution_count": null,
      "outputs": []
    },
    {
      "cell_type": "code",
      "metadata": {
        "id": "gZJK7y8S6A8i",
        "colab_type": "code",
        "colab": {}
      },
      "source": [
        "!git clone https://github.com/bheinzerling/pyrouge.git"
      ],
      "execution_count": null,
      "outputs": []
    },
    {
      "cell_type": "code",
      "metadata": {
        "id": "zcq7Bg7Q6Lzq",
        "colab_type": "code",
        "colab": {}
      },
      "source": [
        "cd pyrouge"
      ],
      "execution_count": null,
      "outputs": []
    },
    {
      "cell_type": "code",
      "metadata": {
        "id": "QNcLabiN6RGf",
        "colab_type": "code",
        "colab": {}
      },
      "source": [
        "!python setup.py install"
      ],
      "execution_count": null,
      "outputs": []
    },
    {
      "cell_type": "code",
      "metadata": {
        "id": "fQomWkaD6URs",
        "colab_type": "code",
        "colab": {}
      },
      "source": [
        "!pyrouge_set_rouge_path /content/BertSum/pyrouge/tools/ROUGE-1.5.5/"
      ],
      "execution_count": null,
      "outputs": []
    },
    {
      "cell_type": "code",
      "metadata": {
        "id": "HtNEj7Cf6bYt",
        "colab_type": "code",
        "colab": {}
      },
      "source": [
        "!python -m pyrouge.test"
      ],
      "execution_count": null,
      "outputs": []
    },
    {
      "cell_type": "code",
      "metadata": {
        "id": "nEREfZ5n669a",
        "colab_type": "code",
        "colab": {}
      },
      "source": [
        "cd /content/BertSum/"
      ],
      "execution_count": null,
      "outputs": []
    },
    {
      "cell_type": "markdown",
      "metadata": {
        "id": "T-l4tvV-c3sJ",
        "colab_type": "text"
      },
      "source": [
        "File \"/content/BertSum/src/models/data_loader.py\", line 31, in __init__\n",
        "    mask = 1 - (src == 0) -> change -> mask = ~ ( src == 0 )"
      ]
    },
    {
      "cell_type": "code",
      "metadata": {
        "id": "T2TfatFUxtm-",
        "colab_type": "code",
        "colab": {}
      },
      "source": [
        "mkdir merged_stories_tokenized"
      ],
      "execution_count": null,
      "outputs": []
    },
    {
      "cell_type": "code",
      "metadata": {
        "id": "91nwVe71oPM0",
        "colab_type": "code",
        "colab": {}
      },
      "source": [
        "cd src"
      ],
      "execution_count": null,
      "outputs": []
    },
    {
      "cell_type": "code",
      "metadata": {
        "id": "lrIITkbmoidt",
        "colab_type": "code",
        "colab": {}
      },
      "source": [
        "ls /content/BertSum/stanford-corenlp-4.0.0/stanford-corenlp-4.0.0.jar"
      ],
      "execution_count": null,
      "outputs": []
    },
    {
      "cell_type": "code",
      "metadata": {
        "id": "juRT5iRXnEWE",
        "colab_type": "code",
        "colab": {}
      },
      "source": [
        "!python preprocess.py -mode tokenize -raw_path ../raw_stories -save_path ../merged_stories_tokenized -log_file ../logs/cnndm.log"
      ],
      "execution_count": null,
      "outputs": []
    },
    {
      "cell_type": "code",
      "metadata": {
        "id": "NjMtPQZuPNRe",
        "colab_type": "code",
        "colab": {}
      },
      "source": [
        "!python train.py -mode train -encoder rnn -dropout 0.1 -bert_data_path ../bert_data/cnndm -model_path ../models/bert_rnn -lr 2e-3 -visible_gpus 0,1,2 -gpu_ranks 0,1,2 -world_size 1 -report_every 1000 -save_checkpoint_steps 1000 -batch_size 3000 -decay_method noam -train_steps 5000 -accum_count 2 -log_file ../logs/bert_rnn -use_interval true -warmup_steps 10000 -rnn_size 768 -dropout 0.1"
      ],
      "execution_count": null,
      "outputs": []
    },
    {
      "cell_type": "code",
      "metadata": {
        "id": "gSEo54Wagc6S",
        "colab_type": "code",
        "colab": {}
      },
      "source": [
        "!python train.py -mode validate -bert_data_path ../bert_data/cnndm -model_path ../models/bert_rnn  -visible_gpus 0  -gpu_ranks 0 -batch_size 30000  -log_file ../logs/model_bert_rnn  -result_path ../results/cnndm -test_all -block_trigram true"
      ],
      "execution_count": null,
      "outputs": []
    }
  ]
}